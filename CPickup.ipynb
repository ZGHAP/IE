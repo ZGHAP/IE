{
 "cells": [
  {
   "cell_type": "code",
   "execution_count": 1,
   "metadata": {},
   "outputs": [
    {
     "name": "stdout",
     "output_type": "stream",
     "text": [
      "import per\n"
     ]
    }
   ],
   "source": [
    "from itertools import count\n",
    "import os\n",
    "import gc\n",
    "import time\n",
    "import pandas as pd\n",
    "import numpy as np\n",
    "import zmq\n",
    "import DRL_pb2\n",
    "import time\n",
    "import math\n",
    "import visdom\n",
    "\n",
    "from agent.main import Agent\n",
    "from agent.actorcritic import OUNoise\n",
    "from emulator.main4test import Account\n",
    "\n",
    "from IPython.display import clear_output\n",
    "\n",
    "import matplotlib.pyplot as plt\n",
    "import seaborn as sns\n",
    "sns.set_style('whitegrid')\n",
    "%matplotlib inline\n",
    "\n",
    "from params_bt import *\n",
    "Instrument_ID = 'TA'\n",
    "\n",
    "DRL = DRL_pb2.Agent_Info()\n",
    "context = zmq.Context()\n",
    "socket = context.socket(zmq.SUB)\n",
    "IPC_CHANNEL = 'ipc:///tmp/' + Instrument_ID +'DRL'\n",
    "socket.connect(IPC_CHANNEL)\n",
    "socket.setsockopt_string(zmq.SUBSCRIBE,'')\n",
    "\n",
    "os.system('rm /AI/ddpg_exp/model/'+Instrument_ID +'/*')\n",
    "os.system('rm /AI/ddpg_exp/figure/'+Instrument_ID +'/*')\n",
    "\n",
    "TD = '2019-03-01'\n",
    "SD = '2018-12-01'"
   ]
  },
  {
   "cell_type": "code",
   "execution_count": null,
   "metadata": {
    "scrolled": false
   },
   "outputs": [
    {
     "name": "stderr",
     "output_type": "stream",
     "text": [
      "/usr/local/lib/python3.5/dist-packages/torch/nn/functional.py:1374: UserWarning: nn.functional.tanh is deprecated. Use torch.tanh instead.\n",
      "  warnings.warn(\"nn.functional.tanh is deprecated. Use torch.tanh instead.\")\n"
     ]
    },
    {
     "name": "stdout",
     "output_type": "stream",
     "text": [
      "-0.007752155666106862\n",
      "-0.007752263858240885\n",
      "-0.0077523535529842105\n",
      "-0.007752162447248032\n",
      "-0.0077519967100586114\n",
      "-0.007751929834495731\n",
      "-0.007751894603990917\n"
     ]
    }
   ],
   "source": [
    "last_sharpe = 0\n",
    "i = 1000\n",
    "best_reward = 0\n",
    "best_sharpe = 0\n",
    "\n",
    "ou_noise = OUNoise(ACTION_SIZE)\n",
    "env = Account(ST_D, ED_D,Instrument_ID)\n",
    "agent_t = Agent(env.reset().shape, ACTION_SIZE)\n",
    "Test_Full_Size = env.data_observation.shape[0] - 1\n",
    "\n",
    "validation_env = Account(ST_D, TD,Instrument_ID)\n",
    "Validattion_Full_Size = validation_env.data_observation.shape[0] - 1\n",
    "\n",
    "viz_best = visdom.Visdom(env = Instrument_ID + '_Showing_Best')\n",
    "viz_best.close()\n",
    "BEST_IMG = viz_best.line(np.arange(20))\n",
    "\n",
    "while True:\n",
    "    r_msg = socket.recv()\n",
    "    DRL.ParseFromString(r_msg)\n",
    "    \n",
    "    if DRL.episode == 0:\n",
    "        last_sharpe = 0\n",
    "    \n",
    "    state = env.reset()\n",
    "    \n",
    "    mod_no = 9999 + math.sin(math.pi/2 * (DRL.episode % 2))\n",
    "    try:                                      \n",
    "        agent_t.load_model(Instrument_ID, mod_no)\n",
    "    except:\n",
    "        continue\n",
    "    \n",
    "    for _ in range(Test_Full_Size):\n",
    "        action = agent_t.get_exploration_policy(np.expand_dims(state, 0))\n",
    "        next_state, reward, done = env.step(action)\n",
    "        state = next_state\n",
    "        \n",
    "    tmp = env.plot_data()\n",
    "    sharpe = np.mean(tmp['reward'])/np.std(tmp['reward'])\n",
    "    print(sharpe)\n",
    "    \n",
    "    if sharpe > last_sharpe * 0.9 and env.total_value > 1e6:\n",
    "        clear_output(True)\n",
    "        agent_t.save_model(Instrument_ID, i)\n",
    "        last_sharpe = sharpe\n",
    "        \n",
    "        tmp.iloc[:, 0].plot(figsize=(16, 6))\n",
    "        pic_name = './figure/'+ Instrument_ID + '/样本外' + str(i) + '.png'\n",
    "        i = i + 1\n",
    "        \n",
    "        if os.path.isfile(pic_name):\n",
    "            os.remove(pic_name)\n",
    "        plt.savefig(pic_name)\n",
    "        plt.close()\n",
    "        \n",
    "        ratio = np.sum(np.maximum(np.sign(tmp['reward']), 0))/tmp.shape[0]\n",
    "        print(\"胜率:\", ratio)\n",
    "        print(\"sharpe:\", sharpe)\n",
    "        print(time.clock())\n",
    "        \n",
    "        ################################################################\n",
    "        v_state = validation_env.reset()\n",
    "        for _ in range(Validattion_Full_Size):\n",
    "            action = agent_t.get_exploration_policy(np.expand_dims(v_state, 0))\n",
    "            v_next_state, v_reward, _ = validation_env.step(action)\n",
    "            v_state = v_next_state\n",
    "        \n",
    "        if validation_env.total_value > best_reward:\n",
    "            best_sharpe = sharpe\n",
    "            best_reward = validation_env.total_value\n",
    "            agent_t.save_model(Instrument_ID, '_best')\n",
    "            showing_rewards = validation_env.plot_data()['value']\n",
    "            for _ in range(showing_rewards.size):\n",
    "                if _ == 0:\n",
    "                    viz_best.line(Y = np.array([showing_rewards[_]]),   X = np.array([_]), update = 'replace', win = BEST_IMG,\\\n",
    "                  opts = dict(title = str(i)))\n",
    "                else:\n",
    "                    viz_best.line(Y = np.array([showing_rewards[_]]),   X = np.array([_]), update = 'append', win = BEST_IMG,\\\n",
    "                  opts = dict(title = str(i)))"
   ]
  },
  {
   "cell_type": "code",
   "execution_count": null,
   "metadata": {},
   "outputs": [],
   "source": []
  }
 ],
 "metadata": {
  "kernelspec": {
   "display_name": "Python 3",
   "language": "python",
   "name": "python3"
  },
  "language_info": {
   "codemirror_mode": {
    "name": "ipython",
    "version": 3
   },
   "file_extension": ".py",
   "mimetype": "text/x-python",
   "name": "python",
   "nbconvert_exporter": "python",
   "pygments_lexer": "ipython3",
   "version": "3.5.2"
  }
 },
 "nbformat": 4,
 "nbformat_minor": 2
}
