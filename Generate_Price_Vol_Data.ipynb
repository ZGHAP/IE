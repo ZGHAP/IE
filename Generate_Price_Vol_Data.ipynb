{
 "cells": [
  {
   "cell_type": "code",
   "execution_count": 1,
   "metadata": {
    "scrolled": false
   },
   "outputs": [],
   "source": [
    "\n",
    "import collections as col\n",
    "\n",
    "from emulator.env_data import high2low, fix_data\n",
    "from emulator.env_factor import get_factors\n",
    "\n",
    "from params import *\n",
    "\n",
    "\n",
    "import re\n",
    "import os\n",
    "import numpy as np\n",
    "import pandas as pd\n",
    "import calendar\n",
    "import matplotlib.pyplot as plt\n",
    "\n",
    "from functools import reduce\n",
    "from collections import defaultdict\n",
    "from seaborn import heatmap\n",
    "from copy import deepcopy\n",
    "from scipy.optimize import linprog as lp\n",
    "from datetime import datetime, timedelta, date\n",
    "from collections import OrderedDict\n",
    "\n",
    "\n",
    "#工作目录，存放代码\n",
    "work_dir = os.path.dirname(os.path.abspath('__file__'))\n",
    "tickdata_path = os.path.join(work_dir, 'tickdata')\n",
    "factors_path = os.path.join(work_dir, 'PQFactors')\n",
    "PCT_CHG_path = os.path.join(work_dir, 'PCT_CHG_NM')\n",
    "concat_path = os.path.join(work_dir, 'factor_preprocess', 'factors_rq')\n",
    "\n",
    "def getting_factors(file_path):\n",
    "    if os.path.isdir(file_path) == False:\n",
    "        quotes = fix_data(os.path.join(tickdata_path, file_path))\n",
    "        quotes = high2low(quotes, H2L_Freq)\n",
    "        daily_quotes = high2low(quotes, D_Freq)\n",
    "    \n",
    "        Index = quotes.index\n",
    "        High = quotes.high.values\n",
    "        Low = quotes.low.values\n",
    "        Close = quotes.close.values\n",
    "        Open = quotes.open.values\n",
    "        Volume = quotes.volume.values\n",
    "        \n",
    "        factors = get_factors(Index, Open, Close, High, Low, Volume, rolling = 20, drop = False)\n",
    "      \n",
    "        code = file_path.split('.')[0] + '.' +  file_path.split('.')[1]\n",
    "        \n",
    "        factors['code'] = code\n",
    "        factors['industry_zx'] = quotes.industry_zx\n",
    "        factors['name'] = quotes.name\n",
    "        factors['PCT_CHG_NM'] = quotes.close.pct_change()\n",
    "        factors.to_csv(os.path.join(factors_path, file_path), encoding='gbk')\n",
    "        \n",
    "        pct_chg = quotes.close.pct_change()\n",
    "        pct_chg.to_csv(os.path.join(PCT_CHG_path, file_path), encoding='gbk')\n",
    "        \n",
    "    \n",
    "def concat_date_factors(file_path):\n",
    "    dates = [\"2013-2-1\", date.today().strftime('%Y-%m-%d')]\n",
    "    #dates = [\"2013-1-1\", \"2016-6-1\"]\n",
    "    start, end = [datetime.strptime(_, \"%Y-%m-%d\") for _ in dates]\n",
    "    dates_dict = OrderedDict(((start + timedelta(_)).strftime(r\"%Y-%m\"), None) for _ in range((end - start).days)).keys()\n",
    "    dates_series = [_ for _ in dates_dict]\n",
    "    \n",
    "    for _ in dates_series:\n",
    "        start_date = str(_) + '-01'\n",
    "        last_d = calendar.monthrange(int(_.split('-')[0]), int(_.split('-')[1]))[1]\n",
    "        end_date = str(_) + '-' + str(last_d)\n",
    "        st = pd.to_datetime(start_date, format = '%Y-%m-%d')\n",
    "        ed = pd.to_datetime(end_date,   format = '%Y-%m-%d')\n",
    "        \n",
    "        factors = pd.DataFrame()\n",
    "        for fpath in os.listdir(factors_path)[:]:\n",
    "            tmp = pd.read_csv(os.path.join(factors_path, fpath), encoding=\"gbk\", engine='c')\n",
    "            tmp = tmp.set_index(tmp.tradeTime)\n",
    "            factor_date_index = pd.to_datetime(tmp.tradeTime, format = '%Y-%m-%d')\n",
    "            \n",
    "            date_condition = (pd.to_datetime(tmp.tradeTime, format = '%Y-%m-%d') >= st) &\\\n",
    "                    (pd.to_datetime(tmp.tradeTime, format = '%Y-%m-%d') <= ed)\n",
    "            \n",
    "            if date_condition.any() == False:\n",
    "                continue\n",
    "                \n",
    "            x = tmp[date_condition].iloc[-1,:]\n",
    "            factors = pd.concat([factors, x], axis = 1)\n",
    "                \n",
    "        factors = factors.T\n",
    "        factors = factors.set_index(factors.code)\n",
    "        #_pathname = end_date.split('-')\n",
    "        #pathname = _pathname[0] + _pathname[1] + _pathname[2]\n",
    "        factors.to_csv(os.path.join(concat_path, end_date)+'.csv', encoding='gbk')\n",
    "\n",
    "def concat_chg_nm(file_path):\n",
    "    pct_chg = pd.DataFrame()\n",
    "    for fpath in os.listdir(PCT_CHG_path)[:]:\n",
    "        #print(fpath)\n",
    "        code = fpath.split('.')[0] + '.' +  fpath.split('.')[1]\n",
    "        \n",
    "        tmp = pd.read_csv(os.path.join(PCT_CHG_path, fpath), encoding=\"gbk\", engine='c')\n",
    "        tmp.rename(columns={'close': f'{code}'}, inplace=True)\n",
    "        tmp = tmp.set_index(tmp.trading_point)\n",
    "        pct_chg = pd.concat([pct_chg, tmp], axis = 1)\n",
    "        del pct_chg['trading_point']\n",
    "        \n",
    "    pct_chg = pct_chg.T\n",
    "    pct_chg.index.names =['code']\n",
    "    pct_chg.to_csv(os.path.join(work_dir, 'PCT_CHG_NM.csv'), encoding='gbk')\n",
    "        \n",
    "    "
   ]
  },
  {
   "cell_type": "code",
   "execution_count": 2,
   "metadata": {
    "scrolled": false
   },
   "outputs": [],
   "source": [
    "for fpath in os.listdir(tickdata_path)[:]:\n",
    "    factors = getting_factors(fpath)"
   ]
  },
  {
   "cell_type": "code",
   "execution_count": 3,
   "metadata": {
    "scrolled": false
   },
   "outputs": [],
   "source": [
    "concat_date_factors(factors_path)"
   ]
  },
  {
   "cell_type": "code",
   "execution_count": 4,
   "metadata": {
    "scrolled": false
   },
   "outputs": [],
   "source": [
    "concat_chg_nm(PCT_CHG_path)"
   ]
  },
  {
   "cell_type": "code",
   "execution_count": null,
   "metadata": {},
   "outputs": [],
   "source": []
  },
  {
   "cell_type": "code",
   "execution_count": null,
   "metadata": {},
   "outputs": [],
   "source": []
  },
  {
   "cell_type": "code",
   "execution_count": null,
   "metadata": {},
   "outputs": [],
   "source": []
  },
  {
   "cell_type": "code",
   "execution_count": null,
   "metadata": {},
   "outputs": [],
   "source": []
  }
 ],
 "metadata": {
  "kernelspec": {
   "display_name": "Python 3",
   "language": "python",
   "name": "python3"
  },
  "language_info": {
   "codemirror_mode": {
    "name": "ipython",
    "version": 3
   },
   "file_extension": ".py",
   "mimetype": "text/x-python",
   "name": "python",
   "nbconvert_exporter": "python",
   "pygments_lexer": "ipython3",
   "version": "3.8.2"
  }
 },
 "nbformat": 4,
 "nbformat_minor": 1
}
